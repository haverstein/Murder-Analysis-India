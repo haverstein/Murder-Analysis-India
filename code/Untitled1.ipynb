{
 "cells": [
  {
   "cell_type": "markdown",
   "id": "782ebe58",
   "metadata": {},
   "source": [
    "# Analysis"
   ]
  },
  {
   "cell_type": "code",
   "execution_count": 3,
   "id": "8d328db0",
   "metadata": {},
   "outputs": [],
   "source": [
    "import pandas as pd\n",
    "import numpy as np\n",
    "import matplotlib.pyplot as plt\n",
    "import seaborn as sns\n",
    "%matplotlib inline"
   ]
  },
  {
   "cell_type": "code",
   "execution_count": 4,
   "id": "15c56e94",
   "metadata": {},
   "outputs": [],
   "source": [
    "murder_data = pd.read_excel(\"../Data/murder(2016-2021)/STATE-UT wise murder data(2021-2015)reg.xlsx\")"
   ]
  },
  {
   "cell_type": "code",
   "execution_count": 6,
   "id": "d32dd8a8",
   "metadata": {},
   "outputs": [
    {
     "data": {
      "text/html": [
       "<div>\n",
       "<style scoped>\n",
       "    .dataframe tbody tr th:only-of-type {\n",
       "        vertical-align: middle;\n",
       "    }\n",
       "\n",
       "    .dataframe tbody tr th {\n",
       "        vertical-align: top;\n",
       "    }\n",
       "\n",
       "    .dataframe thead th {\n",
       "        text-align: right;\n",
       "    }\n",
       "</style>\n",
       "<table border=\"1\" class=\"dataframe\">\n",
       "  <thead>\n",
       "    <tr style=\"text-align: right;\">\n",
       "      <th></th>\n",
       "      <th>Unnamed: 0</th>\n",
       "      <th>Sl. No.</th>\n",
       "      <th>State/UT</th>\n",
       "      <th>2015</th>\n",
       "      <th>2016</th>\n",
       "      <th>2017</th>\n",
       "      <th>2018</th>\n",
       "      <th>2019</th>\n",
       "      <th>2020</th>\n",
       "      <th>2021</th>\n",
       "      <th>Region</th>\n",
       "      <th>Region Pop(in_bill)</th>\n",
       "    </tr>\n",
       "  </thead>\n",
       "  <tbody>\n",
       "    <tr>\n",
       "      <th>31</th>\n",
       "      <td>32</td>\n",
       "      <td>32</td>\n",
       "      <td>Delhi</td>\n",
       "      <td>598</td>\n",
       "      <td>528.0</td>\n",
       "      <td>487.0</td>\n",
       "      <td>513.0</td>\n",
       "      <td>521.0</td>\n",
       "      <td>472</td>\n",
       "      <td>459</td>\n",
       "      <td>N</td>\n",
       "      <td>1.024</td>\n",
       "    </tr>\n",
       "    <tr>\n",
       "      <th>32</th>\n",
       "      <td>33</td>\n",
       "      <td>33</td>\n",
       "      <td>Jammu and Kashmir</td>\n",
       "      <td>169</td>\n",
       "      <td>142.0</td>\n",
       "      <td>152.0</td>\n",
       "      <td>181.0</td>\n",
       "      <td>119.0</td>\n",
       "      <td>149</td>\n",
       "      <td>136</td>\n",
       "      <td>N</td>\n",
       "      <td>1.024</td>\n",
       "    </tr>\n",
       "    <tr>\n",
       "      <th>33</th>\n",
       "      <td>34</td>\n",
       "      <td>34</td>\n",
       "      <td>Ladakh</td>\n",
       "      <td>0</td>\n",
       "      <td>NaN</td>\n",
       "      <td>NaN</td>\n",
       "      <td>NaN</td>\n",
       "      <td>NaN</td>\n",
       "      <td>0</td>\n",
       "      <td>5</td>\n",
       "      <td>N</td>\n",
       "      <td>1.024</td>\n",
       "    </tr>\n",
       "    <tr>\n",
       "      <th>34</th>\n",
       "      <td>35</td>\n",
       "      <td>35</td>\n",
       "      <td>Lakshadweep</td>\n",
       "      <td>0</td>\n",
       "      <td>0.0</td>\n",
       "      <td>0.0</td>\n",
       "      <td>1.0</td>\n",
       "      <td>0.0</td>\n",
       "      <td>0</td>\n",
       "      <td>1</td>\n",
       "      <td>S</td>\n",
       "      <td>1.768</td>\n",
       "    </tr>\n",
       "    <tr>\n",
       "      <th>35</th>\n",
       "      <td>36</td>\n",
       "      <td>36</td>\n",
       "      <td>Puducherry</td>\n",
       "      <td>33</td>\n",
       "      <td>33.0</td>\n",
       "      <td>25.0</td>\n",
       "      <td>29.0</td>\n",
       "      <td>29.0</td>\n",
       "      <td>39</td>\n",
       "      <td>19</td>\n",
       "      <td>S</td>\n",
       "      <td>1.768</td>\n",
       "    </tr>\n",
       "  </tbody>\n",
       "</table>\n",
       "</div>"
      ],
      "text/plain": [
       "    Unnamed: 0  Sl. No.           State/UT  2015   2016   2017   2018   2019  \\\n",
       "31          32       32              Delhi   598  528.0  487.0  513.0  521.0   \n",
       "32          33       33  Jammu and Kashmir   169  142.0  152.0  181.0  119.0   \n",
       "33          34       34             Ladakh     0    NaN    NaN    NaN    NaN   \n",
       "34          35       35        Lakshadweep     0    0.0    0.0    1.0    0.0   \n",
       "35          36       36         Puducherry    33   33.0   25.0   29.0   29.0   \n",
       "\n",
       "    2020  2021 Region  Region Pop(in_bill)  \n",
       "31   472   459      N                1.024  \n",
       "32   149   136      N                1.024  \n",
       "33     0     5      N                1.024  \n",
       "34     0     1      S                1.768  \n",
       "35    39    19      S                1.768  "
      ]
     },
     "execution_count": 6,
     "metadata": {},
     "output_type": "execute_result"
    }
   ],
   "source": [
    "murder_data.tail()"
   ]
  },
  {
   "cell_type": "code",
   "execution_count": 9,
   "id": "698bd4fa",
   "metadata": {},
   "outputs": [],
   "source": [
    "murder_data.fillna(0)\n",
    "df = murder_data"
   ]
  },
  {
   "cell_type": "code",
   "execution_count": 13,
   "id": "4d7d8c28",
   "metadata": {},
   "outputs": [
    {
     "data": {
      "text/plain": [
       "pandas.core.series.Series"
      ]
     },
     "execution_count": 13,
     "metadata": {},
     "output_type": "execute_result"
    }
   ],
   "source": [
    "col_sums = df.sum(axis='index')\n",
    "type(col_sums)"
   ]
  },
  {
   "cell_type": "code",
   "execution_count": 14,
   "id": "91cf4cfe",
   "metadata": {},
   "outputs": [
    {
     "data": {
      "text/plain": [
       "Unnamed: 0                                                           638\n",
       "Sl. No.                                                              666\n",
       "State/UT               Andhra PradeshArunachal PradeshAssamBiharChhat...\n",
       "2015                                                               33078\n",
       "2016                                                             30450.0\n",
       "2017                                                             28653.0\n",
       "2018                                                             29017.0\n",
       "2019                                                             28915.0\n",
       "2020                                                               29193\n",
       "2021                                                               29272\n",
       "Region                      SNENEECWWNNESSCWNENENENEENNNESSNECCESNWNNNSS\n",
       "Region Pop(in_bill)                                               44.652\n",
       "dtype: object"
      ]
     },
     "execution_count": 14,
     "metadata": {},
     "output_type": "execute_result"
    }
   ],
   "source": [
    "col_sums"
   ]
  },
  {
   "cell_type": "code",
   "execution_count": 16,
   "id": "68cdc096",
   "metadata": {},
   "outputs": [],
   "source": [
    " y = col_sums.drop(labels = ['Unnamed: 0','Sl. No.','State/UT','Region','Region Pop(in_bill)'])"
   ]
  },
  {
   "cell_type": "code",
   "execution_count": 19,
   "id": "d1ce920a",
   "metadata": {},
   "outputs": [
    {
     "data": {
      "text/plain": [
       "[33078, 30450.0, 28653.0, 29017.0, 28915.0, 29193, 29272]"
      ]
     },
     "execution_count": 19,
     "metadata": {},
     "output_type": "execute_result"
    }
   ],
   "source": [
    "y1 = y.tolist()\n",
    "y1"
   ]
  },
  {
   "cell_type": "code",
   "execution_count": 25,
   "id": "72fd13b0",
   "metadata": {},
   "outputs": [
    {
     "data": {
      "text/plain": [
       "[2015, 2016, 2017, 2018, 2019, 2020, 2021]"
      ]
     },
     "execution_count": 25,
     "metadata": {},
     "output_type": "execute_result"
    }
   ],
   "source": [
    "x = list(range(2015,2022))\n",
    "x"
   ]
  },
  {
   "cell_type": "code",
   "execution_count": 66,
   "id": "9f29fa22",
   "metadata": {},
   "outputs": [
    {
     "data": {
      "text/plain": [
       "[<matplotlib.lines.Line2D at 0x1deafa281f0>]"
      ]
     },
     "execution_count": 66,
     "metadata": {},
     "output_type": "execute_result"
    },
    {
     "data": {
      "image/png": "[encoded data removed]",
      "text/plain": [
       "<Figure size 640x480 with 1 Axes>"
      ]
     },
     "metadata": {},
     "output_type": "display_data"
    }
   ],
   "source": [
    "plt.plot(x,y1)"
   ]
  },
  {
   "cell_type": "code",
   "execution_count": 80,
   "id": "4b60f99b",
   "metadata": {},
   "outputs": [
    {
     "name": "stdout",
     "output_type": "stream",
     "text": [
      "                            OLS Regression Results                            \n",
      "==============================================================================\n",
      "Dep. Variable:                      y   R-squared:                       0.459\n",
      "Model:                            OLS   Adj. R-squared:                  0.351\n",
      "Method:                 Least Squares   F-statistic:                     4.249\n",
      "Date:                Sat, 13 Apr 2024   Prob (F-statistic):             0.0943\n",
      "Time:                        00:39:05   Log-Likelihood:                -58.689\n",
      "No. Observations:                   7   AIC:                             121.4\n",
      "Df Residuals:                       5   BIC:                             121.3\n",
      "Df Model:                           1                                         \n",
      "Covariance Type:            nonrobust                                         \n",
      "==============================================================================\n",
      "                 coef    std err          t      P>|t|      [0.025      0.975]\n",
      "------------------------------------------------------------------------------\n",
      "const       1.015e+06   4.78e+05      2.124      0.087   -2.14e+05    2.24e+06\n",
      "x1          -488.2143    236.839     -2.061      0.094   -1097.028     120.600\n",
      "==============================================================================\n",
      "Omnibus:                          nan   Durbin-Watson:                   1.028\n",
      "Prob(Omnibus):                    nan   Jarque-Bera (JB):                0.262\n",
      "Skew:                           0.236   Prob(JB):                        0.877\n",
      "Kurtosis:                       2.178   Cond. No.                     2.04e+06\n",
      "==============================================================================\n",
      "\n",
      "Notes:\n",
      "[1] Standard Errors assume that the covariance matrix of the errors is correctly specified.\n",
      "[2] The condition number is large, 2.04e+06. This might indicate that there are\n",
      "strong multicollinearity or other numerical problems.\n"
     ]
    },
    {
     "name": "stderr",
     "output_type": "stream",
     "text": [
      "C:\\Users\\Admin\\anaconda3\\lib\\site-packages\\statsmodels\\stats\\stattools.py:74: ValueWarning: omni_normtest is not valid with less than 8 observations; 7 samples were given.\n",
      "  warn(\"omni_normtest is not valid with less than 8 observations; %i \"\n"
     ]
    }
   ],
   "source": [
    "import statsmodels.api as sm\n",
    "\n",
    "reg = sm.OLS(y1,sm.add_constant(x)).fit()\n",
    "print(reg.summary())\n",
    "y2 = np.log(np.array(y1))"
   ]
  },
  {
   "cell_type": "code",
   "execution_count": 81,
   "id": "cc4286fc",
   "metadata": {},
   "outputs": [
    {
     "name": "stdout",
     "output_type": "stream",
     "text": [
      "                            OLS Regression Results                            \n",
      "==============================================================================\n",
      "Dep. Variable:                      y   R-squared:                       0.457\n",
      "Model:                            OLS   Adj. R-squared:                  0.349\n",
      "Method:                 Least Squares   F-statistic:                     4.215\n",
      "Date:                Sat, 13 Apr 2024   Prob (F-statistic):             0.0953\n",
      "Time:                        00:39:17   Log-Likelihood:                 13.660\n",
      "No. Observations:                   7   AIC:                            -23.32\n",
      "Df Residuals:                       5   BIC:                            -23.43\n",
      "Df Model:                           1                                         \n",
      "Covariance Type:            nonrobust                                         \n",
      "==============================================================================\n",
      "                 coef    std err          t      P>|t|      [0.025      0.975]\n",
      "------------------------------------------------------------------------------\n",
      "const         42.1510     15.513      2.717      0.042       2.275      82.028\n",
      "x1            -0.0158      0.008     -2.053      0.095      -0.036       0.004\n",
      "==============================================================================\n",
      "Omnibus:                          nan   Durbin-Watson:                   1.023\n",
      "Prob(Omnibus):                    nan   Jarque-Bera (JB):                0.240\n",
      "Skew:                           0.186   Prob(JB):                        0.887\n",
      "Kurtosis:                       2.173   Cond. No.                     2.04e+06\n",
      "==============================================================================\n",
      "\n",
      "Notes:\n",
      "[1] Standard Errors assume that the covariance matrix of the errors is correctly specified.\n",
      "[2] The condition number is large, 2.04e+06. This might indicate that there are\n",
      "strong multicollinearity or other numerical problems.\n"
     ]
    },
    {
     "name": "stderr",
     "output_type": "stream",
     "text": [
      "C:\\Users\\Admin\\anaconda3\\lib\\site-packages\\statsmodels\\stats\\stattools.py:74: ValueWarning: omni_normtest is not valid with less than 8 observations; 7 samples were given.\n",
      "  warn(\"omni_normtest is not valid with less than 8 observations; %i \"\n"
     ]
    }
   ],
   "source": [
    "reg2 = sm.OLS(y2,sm.add_constant(x)).fit()\n",
    "print(reg2.summary())"
   ]
  },
  {
   "cell_type": "code",
   "execution_count": 93,
   "id": "93fcba16",
   "metadata": {},
   "outputs": [
    {
     "name": "stdout",
     "output_type": "stream",
     "text": [
      "                            OLS Regression Results                            \n",
      "==============================================================================\n",
      "Dep. Variable:                      y   R-squared:                       0.000\n",
      "Model:                            OLS   Adj. R-squared:                  0.000\n",
      "Method:                 Least Squares   F-statistic:                       nan\n",
      "Date:                Sat, 13 Apr 2024   Prob (F-statistic):                nan\n",
      "Time:                        00:43:06   Log-Likelihood:                -60.842\n",
      "No. Observations:                   7   AIC:                             123.7\n",
      "Df Residuals:                       6   BIC:                             123.6\n",
      "Df Model:                           0                                         \n",
      "Covariance Type:            nonrobust                                         \n",
      "==============================================================================\n",
      "                 coef    std err          t      P>|t|      [0.025      0.975]\n",
      "------------------------------------------------------------------------------\n",
      "const        2.98e+04    588.114     50.665      0.000    2.84e+04    3.12e+04\n",
      "x1                  0          0        nan        nan           0           0\n",
      "==============================================================================\n",
      "Omnibus:                          nan   Durbin-Watson:                   0.713\n",
      "Prob(Omnibus):                    nan   Jarque-Bera (JB):                3.089\n",
      "Skew:                           1.557   Prob(JB):                        0.213\n",
      "Kurtosis:                       3.947   Cond. No.                          inf\n",
      "==============================================================================\n",
      "\n",
      "Notes:\n",
      "[1] Standard Errors assume that the covariance matrix of the errors is correctly specified.\n",
      "[2] The smallest eigenvalue is      0. This might indicate that there are\n",
      "strong multicollinearity problems or that the design matrix is singular.\n"
     ]
    },
    {
     "name": "stderr",
     "output_type": "stream",
     "text": [
      "C:\\Users\\Admin\\anaconda3\\lib\\site-packages\\statsmodels\\stats\\stattools.py:74: ValueWarning: omni_normtest is not valid with less than 8 observations; 7 samples were given.\n",
      "  warn(\"omni_normtest is not valid with less than 8 observations; %i \"\n",
      "C:\\Users\\Admin\\anaconda3\\lib\\site-packages\\statsmodels\\regression\\linear_model.py:1934: RuntimeWarning: divide by zero encountered in scalar divide\n",
      "  return np.sqrt(eigvals[0]/eigvals[-1])\n"
     ]
    }
   ],
   "source": [
    "reg3 = sm.OLS(y1,sm.add_constant(np.exp(-1*np.array(x)))).fit()\n",
    "print(reg3.summary())"
   ]
  },
  {
   "cell_type": "code",
   "execution_count": null,
   "id": "7edbc0dc",
   "metadata": {},
   "outputs": [],
   "source": []
  },
  {
   "cell_type": "code",
   "execution_count": 85,
   "id": "87fed1e2",
   "metadata": {},
   "outputs": [
    {
     "data": {
      "text/plain": [
       "array([30151.80295892, 29679.14827691, 29213.90285161, 28755.95053674,\n",
       "       28305.1770067 , 27861.46972805, 27424.71793139])"
      ]
     },
     "execution_count": 85,
     "metadata": {},
     "output_type": "execute_result"
    }
   ],
   "source": [
    "y3 = np.exp(42.1510 -0.0158*np.array(x))\n",
    "y3"
   ]
  },
  {
   "cell_type": "code",
   "execution_count": 86,
   "id": "b1074ea9",
   "metadata": {},
   "outputs": [
    {
     "data": {
      "text/plain": [
       "array([31248.1855, 30759.9712, 30271.7569, 29783.5426, 29295.3283,\n",
       "       28807.114 , 28318.8997])"
      ]
     },
     "execution_count": 86,
     "metadata": {},
     "output_type": "execute_result"
    }
   ],
   "source": [
    "y = -488.2143 * np.array(x) + 1.015e+06\n",
    "y"
   ]
  },
  {
   "cell_type": "code",
   "execution_count": 88,
   "id": "a6cd9ffe",
   "metadata": {},
   "outputs": [
    {
     "data": {
      "text/plain": [
       "[<matplotlib.lines.Line2D at 0x1deb0e62490>]"
      ]
     },
     "execution_count": 88,
     "metadata": {},
     "output_type": "execute_result"
    },
    {
     "data": {
      "image/png": "[encoded data removed]",
      "text/plain": [
       "<Figure size 640x480 with 1 Axes>"
      ]
     },
     "metadata": {},
     "output_type": "display_data"
    }
   ],
   "source": [
    "plt.plot(x, y1)\n",
    "plt.plot(x,y, 'r')\n",
    "plt.plot(x,y3,'y')"
   ]
  },
  {
   "cell_type": "code",
   "execution_count": null,
   "id": "5315bc19",
   "metadata": {},
   "outputs": [],
   "source": []
  }
 ],
 "metadata": {
  "kernelspec": {
   "display_name": "Python 3",
   "language": "python",
   "name": "python3"
  },
  "language_info": {
   "codemirror_mode": {
    "name": "ipython",
    "version": 3
   },
   "file_extension": ".py",
   "mimetype": "text/x-python",
   "name": "python",
   "nbconvert_exporter": "python",
   "pygments_lexer": "ipython3",
   "version": "3.9.7"
  }
 },
 "nbformat": 4,
 "nbformat_minor": 5
}
